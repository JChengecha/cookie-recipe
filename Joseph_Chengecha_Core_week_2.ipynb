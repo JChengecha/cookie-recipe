{
  "nbformat": 4,
  "nbformat_minor": 0,
  "metadata": {
    "colab": {
      "name": "Joseph Chengecha Core_week_2.ipynb",
      "provenance": [],
      "collapsed_sections": [
        "q7YowGlP3VGD"
      ],
      "toc_visible": true,
      "authorship_tag": "ABX9TyO/2y7TlbfCJpPGY46nJDCs",
      "include_colab_link": true
    },
    "kernelspec": {
      "name": "python3",
      "display_name": "Python 3"
    },
    "language_info": {
      "name": "python"
    }
  },
  "cells": [
    {
      "cell_type": "markdown",
      "metadata": {
        "id": "view-in-github",
        "colab_type": "text"
      },
      "source": [
        "<a href=\"https://colab.research.google.com/github/JChengecha/cookie-recipe/blob/master/Joseph_Chengecha_Core_week_2.ipynb\" target=\"_parent\"><img src=\"https://colab.research.google.com/assets/colab-badge.svg\" alt=\"Open In Colab\"/></a>"
      ]
    },
    {
      "cell_type": "markdown",
      "metadata": {
        "id": "eylQ5Aln936L"
      },
      "source": [
        "  # **Financial Inclusion in Kenya, Rwanda, Tanzania and Uganda**\n",
        "\n",
        "\n",
        "\n"
      ]
    },
    {
      "cell_type": "markdown",
      "metadata": {
        "id": "hlekBrDOyp14"
      },
      "source": [
        "Financial Inclusion remains one of the main obstacles to economic and human development in Africa. Despite the proliferation of mobile money in Africa and the growth of innovative fintech solutions, banks still play a pivotal role in facilitating access to financial services. Access to bank accounts enables households to save and facilitate payments while also helping businesses build up their credit-worthiness and improve their access to other financial services. Therefore, access to bank accounts is an essential contributor to long-term economic growth."
      ]
    },
    {
      "cell_type": "markdown",
      "metadata": {
        "id": "q7YowGlP3VGD"
      },
      "source": [
        "### Defining the Question"
      ]
    },
    {
      "cell_type": "markdown",
      "metadata": {
        "id": "lo9fUpEg3VB6"
      },
      "source": [
        "The Data Analytic Question:\n",
        "\n",
        "*  To develop a model that would predict financial inclusion in Kenya, Rwanda, \n",
        "Tanzania and Uganda based on the various characteristics.\n",
        "\n",
        "\n",
        "\n",
        "\n"
      ]
    },
    {
      "cell_type": "markdown",
      "metadata": {
        "id": "i_8aSxkc3U7Z"
      },
      "source": [
        "Metric for Success:\n",
        "\n",
        "To develop a linear discriminant model that would predict if an individual would have an bank account based on his/her features\n",
        "\n",
        "\n",
        "\n",
        "\n"
      ]
    },
    {
      "cell_type": "markdown",
      "metadata": {
        "id": "M4JKC1St3Uvv"
      },
      "source": [
        "the context:\n",
        "\n",
        "Traditionally, access to bank accounts has been regarded as an indicator of financial inclusion."
      ]
    },
    {
      "cell_type": "markdown",
      "metadata": {
        "id": "qoRFlhBC5q8R"
      },
      "source": [
        "The Experimental Design\n",
        "\n",
        "* collecting data\n",
        "* perform data cleaning procedures and deal with anomalies\n",
        "* perform exploratory data analysis\n"
      ]
    },
    {
      "cell_type": "markdown",
      "metadata": {
        "id": "HHiLyW6g53Sd"
      },
      "source": [
        "Data Relevance\n",
        "\n",
        "data should be from the four countries showing their access to a bank account and varianbles to best describe the responders standards of living"
      ]
    },
    {
      "cell_type": "markdown",
      "metadata": {
        "id": "pTIHFALm3VNd"
      },
      "source": [
        "## *Exploratory Data Analysis*"
      ]
    },
    {
      "cell_type": "markdown",
      "metadata": {
        "id": "gh8RB1Mm61DY"
      },
      "source": [
        "### Importing libraries and loading the dataset"
      ]
    },
    {
      "cell_type": "code",
      "metadata": {
        "id": "XUz4cvbU1M0T"
      },
      "source": [
        "# importing libraries necessary for the EDA\n",
        "import pandas as pd\n",
        "import numpy as np\n",
        "import matplotlib.pyplot as plt\n",
        "import seaborn as sns"
      ],
      "execution_count": 83,
      "outputs": []
    },
    {
      "cell_type": "code",
      "metadata": {
        "id": "h-qxYoLc3L13"
      },
      "source": [
        "# loading the dataset into the notebook from this url: http://bit.ly/FinancialDataset\n",
        "fdata=pd.read_csv('http://bit.ly/FinancialDataset')"
      ],
      "execution_count": 84,
      "outputs": []
    },
    {
      "cell_type": "markdown",
      "metadata": {
        "id": "qzQWUnslfdux"
      },
      "source": [
        "Previewing the dataset and checking on information concerning the dataset"
      ]
    },
    {
      "cell_type": "code",
      "metadata": {
        "colab": {
          "base_uri": "https://localhost:8080/",
          "height": 336
        },
        "id": "ZLVOOlTQcx4r",
        "outputId": "b6ee430f-5c23-43cd-ebe4-d6f3d1ced979"
      },
      "source": [
        "#checking the top rows of the data\n",
        "fdata.head()"
      ],
      "execution_count": 85,
      "outputs": [
        {
          "output_type": "execute_result",
          "data": {
            "text/html": [
              "<div>\n",
              "<style scoped>\n",
              "    .dataframe tbody tr th:only-of-type {\n",
              "        vertical-align: middle;\n",
              "    }\n",
              "\n",
              "    .dataframe tbody tr th {\n",
              "        vertical-align: top;\n",
              "    }\n",
              "\n",
              "    .dataframe thead th {\n",
              "        text-align: right;\n",
              "    }\n",
              "</style>\n",
              "<table border=\"1\" class=\"dataframe\">\n",
              "  <thead>\n",
              "    <tr style=\"text-align: right;\">\n",
              "      <th></th>\n",
              "      <th>country</th>\n",
              "      <th>year</th>\n",
              "      <th>uniqueid</th>\n",
              "      <th>Has a Bank account</th>\n",
              "      <th>Type of Location</th>\n",
              "      <th>Cell Phone Access</th>\n",
              "      <th>household_size</th>\n",
              "      <th>Respondent Age</th>\n",
              "      <th>gender_of_respondent</th>\n",
              "      <th>The relathip with head</th>\n",
              "      <th>marital_status</th>\n",
              "      <th>Level of Educuation</th>\n",
              "      <th>Type of Job</th>\n",
              "    </tr>\n",
              "  </thead>\n",
              "  <tbody>\n",
              "    <tr>\n",
              "      <th>0</th>\n",
              "      <td>Kenya</td>\n",
              "      <td>2018</td>\n",
              "      <td>uniqueid_1</td>\n",
              "      <td>Yes</td>\n",
              "      <td>Rural</td>\n",
              "      <td>Yes</td>\n",
              "      <td>3.0</td>\n",
              "      <td>24.0</td>\n",
              "      <td>Female</td>\n",
              "      <td>Spouse</td>\n",
              "      <td>Married/Living together</td>\n",
              "      <td>Secondary education</td>\n",
              "      <td>Self employed</td>\n",
              "    </tr>\n",
              "    <tr>\n",
              "      <th>1</th>\n",
              "      <td>Kenya</td>\n",
              "      <td>2018</td>\n",
              "      <td>uniqueid_2</td>\n",
              "      <td>No</td>\n",
              "      <td>Rural</td>\n",
              "      <td>No</td>\n",
              "      <td>5.0</td>\n",
              "      <td>70.0</td>\n",
              "      <td>Female</td>\n",
              "      <td>Head of Household</td>\n",
              "      <td>Widowed</td>\n",
              "      <td>No formal education</td>\n",
              "      <td>Government Dependent</td>\n",
              "    </tr>\n",
              "    <tr>\n",
              "      <th>2</th>\n",
              "      <td>Kenya</td>\n",
              "      <td>2018</td>\n",
              "      <td>uniqueid_3</td>\n",
              "      <td>Yes</td>\n",
              "      <td>Urban</td>\n",
              "      <td>Yes</td>\n",
              "      <td>5.0</td>\n",
              "      <td>26.0</td>\n",
              "      <td>Male</td>\n",
              "      <td>Other relative</td>\n",
              "      <td>Single/Never Married</td>\n",
              "      <td>Vocational/Specialised training</td>\n",
              "      <td>Self employed</td>\n",
              "    </tr>\n",
              "    <tr>\n",
              "      <th>3</th>\n",
              "      <td>Kenya</td>\n",
              "      <td>2018</td>\n",
              "      <td>uniqueid_4</td>\n",
              "      <td>No</td>\n",
              "      <td>Rural</td>\n",
              "      <td>Yes</td>\n",
              "      <td>5.0</td>\n",
              "      <td>34.0</td>\n",
              "      <td>Female</td>\n",
              "      <td>Head of Household</td>\n",
              "      <td>Married/Living together</td>\n",
              "      <td>Primary education</td>\n",
              "      <td>Formally employed Private</td>\n",
              "    </tr>\n",
              "    <tr>\n",
              "      <th>4</th>\n",
              "      <td>Kenya</td>\n",
              "      <td>2018</td>\n",
              "      <td>uniqueid_5</td>\n",
              "      <td>No</td>\n",
              "      <td>Urban</td>\n",
              "      <td>No</td>\n",
              "      <td>8.0</td>\n",
              "      <td>26.0</td>\n",
              "      <td>Male</td>\n",
              "      <td>Child</td>\n",
              "      <td>Single/Never Married</td>\n",
              "      <td>Primary education</td>\n",
              "      <td>Informally employed</td>\n",
              "    </tr>\n",
              "  </tbody>\n",
              "</table>\n",
              "</div>"
            ],
            "text/plain": [
              "  country  year  ...              Level of Educuation                Type of Job\n",
              "0   Kenya  2018  ...              Secondary education              Self employed\n",
              "1   Kenya  2018  ...              No formal education       Government Dependent\n",
              "2   Kenya  2018  ...  Vocational/Specialised training              Self employed\n",
              "3   Kenya  2018  ...                Primary education  Formally employed Private\n",
              "4   Kenya  2018  ...                Primary education        Informally employed\n",
              "\n",
              "[5 rows x 13 columns]"
            ]
          },
          "metadata": {
            "tags": []
          },
          "execution_count": 85
        }
      ]
    },
    {
      "cell_type": "code",
      "metadata": {
        "colab": {
          "base_uri": "https://localhost:8080/",
          "height": 319
        },
        "id": "Gx-U-rGT7f4W",
        "outputId": "3dfd3d22-f467-4c06-e644-916cbd081899"
      },
      "source": [
        "#checking the bottom rows of the dataset\n",
        "fdata.tail()"
      ],
      "execution_count": 86,
      "outputs": [
        {
          "output_type": "execute_result",
          "data": {
            "text/html": [
              "<div>\n",
              "<style scoped>\n",
              "    .dataframe tbody tr th:only-of-type {\n",
              "        vertical-align: middle;\n",
              "    }\n",
              "\n",
              "    .dataframe tbody tr th {\n",
              "        vertical-align: top;\n",
              "    }\n",
              "\n",
              "    .dataframe thead th {\n",
              "        text-align: right;\n",
              "    }\n",
              "</style>\n",
              "<table border=\"1\" class=\"dataframe\">\n",
              "  <thead>\n",
              "    <tr style=\"text-align: right;\">\n",
              "      <th></th>\n",
              "      <th>country</th>\n",
              "      <th>year</th>\n",
              "      <th>uniqueid</th>\n",
              "      <th>Has a Bank account</th>\n",
              "      <th>Type of Location</th>\n",
              "      <th>Cell Phone Access</th>\n",
              "      <th>household_size</th>\n",
              "      <th>Respondent Age</th>\n",
              "      <th>gender_of_respondent</th>\n",
              "      <th>The relathip with head</th>\n",
              "      <th>marital_status</th>\n",
              "      <th>Level of Educuation</th>\n",
              "      <th>Type of Job</th>\n",
              "    </tr>\n",
              "  </thead>\n",
              "  <tbody>\n",
              "    <tr>\n",
              "      <th>23519</th>\n",
              "      <td>Uganda</td>\n",
              "      <td>2018</td>\n",
              "      <td>uniqueid_2113</td>\n",
              "      <td>No</td>\n",
              "      <td>Rural</td>\n",
              "      <td>Yes</td>\n",
              "      <td>4.0</td>\n",
              "      <td>48.0</td>\n",
              "      <td>Female</td>\n",
              "      <td>Head of Household</td>\n",
              "      <td>Divorced/Seperated</td>\n",
              "      <td>No formal education</td>\n",
              "      <td>Other Income</td>\n",
              "    </tr>\n",
              "    <tr>\n",
              "      <th>23520</th>\n",
              "      <td>Uganda</td>\n",
              "      <td>2018</td>\n",
              "      <td>uniqueid_2114</td>\n",
              "      <td>No</td>\n",
              "      <td>Rural</td>\n",
              "      <td>Yes</td>\n",
              "      <td>2.0</td>\n",
              "      <td>27.0</td>\n",
              "      <td>Female</td>\n",
              "      <td>Head of Household</td>\n",
              "      <td>Single/Never Married</td>\n",
              "      <td>Secondary education</td>\n",
              "      <td>Other Income</td>\n",
              "    </tr>\n",
              "    <tr>\n",
              "      <th>23521</th>\n",
              "      <td>Uganda</td>\n",
              "      <td>2018</td>\n",
              "      <td>uniqueid_2115</td>\n",
              "      <td>No</td>\n",
              "      <td>Rural</td>\n",
              "      <td>Yes</td>\n",
              "      <td>5.0</td>\n",
              "      <td>27.0</td>\n",
              "      <td>Female</td>\n",
              "      <td>Parent</td>\n",
              "      <td>Widowed</td>\n",
              "      <td>Primary education</td>\n",
              "      <td>Other Income</td>\n",
              "    </tr>\n",
              "    <tr>\n",
              "      <th>23522</th>\n",
              "      <td>Uganda</td>\n",
              "      <td>2018</td>\n",
              "      <td>uniqueid_2116</td>\n",
              "      <td>No</td>\n",
              "      <td>Urban</td>\n",
              "      <td>Yes</td>\n",
              "      <td>7.0</td>\n",
              "      <td>30.0</td>\n",
              "      <td>Female</td>\n",
              "      <td>Parent</td>\n",
              "      <td>Divorced/Seperated</td>\n",
              "      <td>Secondary education</td>\n",
              "      <td>Self employed</td>\n",
              "    </tr>\n",
              "    <tr>\n",
              "      <th>23523</th>\n",
              "      <td>Uganda</td>\n",
              "      <td>2018</td>\n",
              "      <td>uniqueid_2117</td>\n",
              "      <td>No</td>\n",
              "      <td>Rural</td>\n",
              "      <td>Yes</td>\n",
              "      <td>10.0</td>\n",
              "      <td>20.0</td>\n",
              "      <td>Male</td>\n",
              "      <td>Child</td>\n",
              "      <td>Single/Never Married</td>\n",
              "      <td>Secondary education</td>\n",
              "      <td>No Income</td>\n",
              "    </tr>\n",
              "  </tbody>\n",
              "</table>\n",
              "</div>"
            ],
            "text/plain": [
              "      country  year  ...  Level of Educuation    Type of Job\n",
              "23519  Uganda  2018  ...  No formal education   Other Income\n",
              "23520  Uganda  2018  ...  Secondary education   Other Income\n",
              "23521  Uganda  2018  ...    Primary education   Other Income\n",
              "23522  Uganda  2018  ...  Secondary education  Self employed\n",
              "23523  Uganda  2018  ...  Secondary education      No Income\n",
              "\n",
              "[5 rows x 13 columns]"
            ]
          },
          "metadata": {
            "tags": []
          },
          "execution_count": 86
        }
      ]
    },
    {
      "cell_type": "code",
      "metadata": {
        "colab": {
          "base_uri": "https://localhost:8080/"
        },
        "id": "mXRC3mm6cvNq",
        "outputId": "cfaec6dc-143b-4261-8e86-72f26efd2fdd"
      },
      "source": [
        "#getting the information concerning the dataset\n",
        "fdata.info()"
      ],
      "execution_count": 87,
      "outputs": [
        {
          "output_type": "stream",
          "text": [
            "<class 'pandas.core.frame.DataFrame'>\n",
            "RangeIndex: 23524 entries, 0 to 23523\n",
            "Data columns (total 13 columns):\n",
            " #   Column                  Non-Null Count  Dtype  \n",
            "---  ------                  --------------  -----  \n",
            " 0   country                 23510 non-null  object \n",
            " 1   year                    23524 non-null  int64  \n",
            " 2   uniqueid                23524 non-null  object \n",
            " 3   Has a Bank account      23488 non-null  object \n",
            " 4   Type of Location        23509 non-null  object \n",
            " 5   Cell Phone Access       23513 non-null  object \n",
            " 6   household_size          23496 non-null  float64\n",
            " 7   Respondent Age          23490 non-null  float64\n",
            " 8   gender_of_respondent    23490 non-null  object \n",
            " 9   The relathip with head  23520 non-null  object \n",
            " 10  marital_status          23492 non-null  object \n",
            " 11  Level of Educuation     23495 non-null  object \n",
            " 12  Type of Job             23494 non-null  object \n",
            "dtypes: float64(2), int64(1), object(10)\n",
            "memory usage: 2.3+ MB\n"
          ],
          "name": "stdout"
        }
      ]
    },
    {
      "cell_type": "markdown",
      "metadata": {
        "id": "lIePqF_zh1X1"
      },
      "source": [
        "### Data cleaning"
      ]
    },
    {
      "cell_type": "code",
      "metadata": {
        "id": "NYlINsrbdzkK",
        "colab": {
          "base_uri": "https://localhost:8080/"
        },
        "outputId": "8b30af7c-7ddd-4fdc-fc49-6e96b9f820a0"
      },
      "source": [
        "# renaming the column names and setting to lower case letters\n",
        "fdata.rename(columns={'Has a Bank account':'has_bank_account','Type of Location':'location_type',\n",
        "                      'Cell Phone Access':'cell_phone_access','Respondent Age':'responders_age',\n",
        "                      'The relathip with head':'relationship_with_head','Level of Educuation':'level_of_education',\n",
        "                      'Type of Job':'type_of_job'},inplace=True)\n",
        "fdata.columns.str.lower"
      ],
      "execution_count": 88,
      "outputs": [
        {
          "output_type": "execute_result",
          "data": {
            "text/plain": [
              "<bound method _noarg_wrapper.<locals>.wrapper of <pandas.core.strings.StringMethods object at 0x7fd291644b50>>"
            ]
          },
          "metadata": {
            "tags": []
          },
          "execution_count": 88
        }
      ]
    },
    {
      "cell_type": "markdown",
      "metadata": {
        "id": "9MhLzwgur1zI"
      },
      "source": [
        "### checking for null values"
      ]
    },
    {
      "cell_type": "code",
      "metadata": {
        "colab": {
          "base_uri": "https://localhost:8080/"
        },
        "id": "Pk-kmvvJdQI1",
        "outputId": "511526d6-f227-4737-9a32-74ef6cdf8750"
      },
      "source": [
        "#checking for null values\n",
        "fdata.isnull().sum()"
      ],
      "execution_count": 89,
      "outputs": [
        {
          "output_type": "execute_result",
          "data": {
            "text/plain": [
              "country                   14\n",
              "year                       0\n",
              "uniqueid                   0\n",
              "has_bank_account          36\n",
              "location_type             15\n",
              "cell_phone_access         11\n",
              "household_size            28\n",
              "responders_age            34\n",
              "gender_of_respondent      34\n",
              "relationship_with_head     4\n",
              "marital_status            32\n",
              "level_of_education        29\n",
              "type_of_job               30\n",
              "dtype: int64"
            ]
          },
          "metadata": {
            "tags": []
          },
          "execution_count": 89
        }
      ]
    },
    {
      "cell_type": "code",
      "metadata": {
        "id": "OUAmevHhiGQY"
      },
      "source": [
        "#filling the null values for the household size variable and responders age variable withe the mean of their respective columns\n",
        "fdata.household_size=fdata['household_size'].fillna(value=fdata['household_size'].mean())\n",
        "fdata.responders_age=fdata['responders_age'].fillna(value=fdata['responders_age'].mean())"
      ],
      "execution_count": 90,
      "outputs": []
    },
    {
      "cell_type": "code",
      "metadata": {
        "id": "upEB02CwrwAD"
      },
      "source": [
        "#dropping the rest of the null values\n",
        "fdata=fdata.dropna()"
      ],
      "execution_count": 91,
      "outputs": []
    },
    {
      "cell_type": "code",
      "metadata": {
        "colab": {
          "base_uri": "https://localhost:8080/"
        },
        "id": "59GW69XgrcvK",
        "outputId": "9bf78031-b492-4503-c7f1-3461589f3774"
      },
      "source": [
        "#checking if there are any null values\n",
        "fdata.isnull().sum()\n",
        "#there are no further null values"
      ],
      "execution_count": 92,
      "outputs": [
        {
          "output_type": "execute_result",
          "data": {
            "text/plain": [
              "country                   0\n",
              "year                      0\n",
              "uniqueid                  0\n",
              "has_bank_account          0\n",
              "location_type             0\n",
              "cell_phone_access         0\n",
              "household_size            0\n",
              "responders_age            0\n",
              "gender_of_respondent      0\n",
              "relationship_with_head    0\n",
              "marital_status            0\n",
              "level_of_education        0\n",
              "type_of_job               0\n",
              "dtype: int64"
            ]
          },
          "metadata": {
            "tags": []
          },
          "execution_count": 92
        }
      ]
    },
    {
      "cell_type": "markdown",
      "metadata": {
        "id": "FsiiV0JIr9wU"
      },
      "source": [
        "### checking for duplicates"
      ]
    },
    {
      "cell_type": "code",
      "metadata": {
        "colab": {
          "base_uri": "https://localhost:8080/"
        },
        "id": "6uzsLuA0dfBE",
        "outputId": "6927cc8a-d972-4712-96a0-5d5316bcc5fa"
      },
      "source": [
        "fdata.duplicated().sum()\n",
        "#there are no duplicates"
      ],
      "execution_count": 93,
      "outputs": [
        {
          "output_type": "execute_result",
          "data": {
            "text/plain": [
              "0"
            ]
          },
          "metadata": {
            "tags": []
          },
          "execution_count": 93
        }
      ]
    },
    {
      "cell_type": "code",
      "metadata": {
        "id": "Lqlw56vMh-JT",
        "colab": {
          "base_uri": "https://localhost:8080/",
          "height": 322
        },
        "outputId": "962d90cc-e972-4a06-a937-4c62f84f1cd7"
      },
      "source": [
        "fdata.head(5)"
      ],
      "execution_count": 94,
      "outputs": [
        {
          "output_type": "execute_result",
          "data": {
            "text/html": [
              "<div>\n",
              "<style scoped>\n",
              "    .dataframe tbody tr th:only-of-type {\n",
              "        vertical-align: middle;\n",
              "    }\n",
              "\n",
              "    .dataframe tbody tr th {\n",
              "        vertical-align: top;\n",
              "    }\n",
              "\n",
              "    .dataframe thead th {\n",
              "        text-align: right;\n",
              "    }\n",
              "</style>\n",
              "<table border=\"1\" class=\"dataframe\">\n",
              "  <thead>\n",
              "    <tr style=\"text-align: right;\">\n",
              "      <th></th>\n",
              "      <th>country</th>\n",
              "      <th>year</th>\n",
              "      <th>uniqueid</th>\n",
              "      <th>has_bank_account</th>\n",
              "      <th>location_type</th>\n",
              "      <th>cell_phone_access</th>\n",
              "      <th>household_size</th>\n",
              "      <th>responders_age</th>\n",
              "      <th>gender_of_respondent</th>\n",
              "      <th>relationship_with_head</th>\n",
              "      <th>marital_status</th>\n",
              "      <th>level_of_education</th>\n",
              "      <th>type_of_job</th>\n",
              "    </tr>\n",
              "  </thead>\n",
              "  <tbody>\n",
              "    <tr>\n",
              "      <th>0</th>\n",
              "      <td>Kenya</td>\n",
              "      <td>2018</td>\n",
              "      <td>uniqueid_1</td>\n",
              "      <td>Yes</td>\n",
              "      <td>Rural</td>\n",
              "      <td>Yes</td>\n",
              "      <td>3.0</td>\n",
              "      <td>24.0</td>\n",
              "      <td>Female</td>\n",
              "      <td>Spouse</td>\n",
              "      <td>Married/Living together</td>\n",
              "      <td>Secondary education</td>\n",
              "      <td>Self employed</td>\n",
              "    </tr>\n",
              "    <tr>\n",
              "      <th>1</th>\n",
              "      <td>Kenya</td>\n",
              "      <td>2018</td>\n",
              "      <td>uniqueid_2</td>\n",
              "      <td>No</td>\n",
              "      <td>Rural</td>\n",
              "      <td>No</td>\n",
              "      <td>5.0</td>\n",
              "      <td>70.0</td>\n",
              "      <td>Female</td>\n",
              "      <td>Head of Household</td>\n",
              "      <td>Widowed</td>\n",
              "      <td>No formal education</td>\n",
              "      <td>Government Dependent</td>\n",
              "    </tr>\n",
              "    <tr>\n",
              "      <th>2</th>\n",
              "      <td>Kenya</td>\n",
              "      <td>2018</td>\n",
              "      <td>uniqueid_3</td>\n",
              "      <td>Yes</td>\n",
              "      <td>Urban</td>\n",
              "      <td>Yes</td>\n",
              "      <td>5.0</td>\n",
              "      <td>26.0</td>\n",
              "      <td>Male</td>\n",
              "      <td>Other relative</td>\n",
              "      <td>Single/Never Married</td>\n",
              "      <td>Vocational/Specialised training</td>\n",
              "      <td>Self employed</td>\n",
              "    </tr>\n",
              "    <tr>\n",
              "      <th>3</th>\n",
              "      <td>Kenya</td>\n",
              "      <td>2018</td>\n",
              "      <td>uniqueid_4</td>\n",
              "      <td>No</td>\n",
              "      <td>Rural</td>\n",
              "      <td>Yes</td>\n",
              "      <td>5.0</td>\n",
              "      <td>34.0</td>\n",
              "      <td>Female</td>\n",
              "      <td>Head of Household</td>\n",
              "      <td>Married/Living together</td>\n",
              "      <td>Primary education</td>\n",
              "      <td>Formally employed Private</td>\n",
              "    </tr>\n",
              "    <tr>\n",
              "      <th>4</th>\n",
              "      <td>Kenya</td>\n",
              "      <td>2018</td>\n",
              "      <td>uniqueid_5</td>\n",
              "      <td>No</td>\n",
              "      <td>Urban</td>\n",
              "      <td>No</td>\n",
              "      <td>8.0</td>\n",
              "      <td>26.0</td>\n",
              "      <td>Male</td>\n",
              "      <td>Child</td>\n",
              "      <td>Single/Never Married</td>\n",
              "      <td>Primary education</td>\n",
              "      <td>Informally employed</td>\n",
              "    </tr>\n",
              "  </tbody>\n",
              "</table>\n",
              "</div>"
            ],
            "text/plain": [
              "  country  year  ...               level_of_education                type_of_job\n",
              "0   Kenya  2018  ...              Secondary education              Self employed\n",
              "1   Kenya  2018  ...              No formal education       Government Dependent\n",
              "2   Kenya  2018  ...  Vocational/Specialised training              Self employed\n",
              "3   Kenya  2018  ...                Primary education  Formally employed Private\n",
              "4   Kenya  2018  ...                Primary education        Informally employed\n",
              "\n",
              "[5 rows x 13 columns]"
            ]
          },
          "metadata": {
            "tags": []
          },
          "execution_count": 94
        }
      ]
    },
    {
      "cell_type": "markdown",
      "metadata": {
        "id": "quhvhY_E4ASN"
      },
      "source": [
        "# univariate analysis\n"
      ]
    },
    {
      "cell_type": "code",
      "metadata": {
        "colab": {
          "base_uri": "https://localhost:8080/"
        },
        "id": "zFooEnt0Ots9",
        "outputId": "b51053bd-f3c9-4fb0-8f82-7494980a4b9f"
      },
      "source": [
        "fdata.columns"
      ],
      "execution_count": 95,
      "outputs": [
        {
          "output_type": "execute_result",
          "data": {
            "text/plain": [
              "Index(['country', 'year', 'uniqueid', 'has_bank_account', 'location_type',\n",
              "       'cell_phone_access', 'household_size', 'responders_age',\n",
              "       'gender_of_respondent', 'relationship_with_head', 'marital_status',\n",
              "       'level_of_education', 'type_of_job'],\n",
              "      dtype='object')"
            ]
          },
          "metadata": {
            "tags": []
          },
          "execution_count": 95
        }
      ]
    },
    {
      "cell_type": "markdown",
      "metadata": {
        "id": "MRzpCNR-AzDC"
      },
      "source": [
        "### Frequency tables"
      ]
    },
    {
      "cell_type": "code",
      "metadata": {
        "colab": {
          "base_uri": "https://localhost:8080/"
        },
        "id": "chmfkxtG4B4L",
        "outputId": "bcc3bf94-6a99-4cdc-ff59-9d9e625d7e12"
      },
      "source": [
        "#frequency table on the countries\n",
        "fdata.country.value_counts()\n",
        "#Rwanda has most entries"
      ],
      "execution_count": 96,
      "outputs": [
        {
          "output_type": "execute_result",
          "data": {
            "text/plain": [
              "Rwanda      8701\n",
              "Tanzania    6517\n",
              "Kenya       6064\n",
              "Uganda      2101\n",
              "Name: country, dtype: int64"
            ]
          },
          "metadata": {
            "tags": []
          },
          "execution_count": 96
        }
      ]
    },
    {
      "cell_type": "code",
      "metadata": {
        "colab": {
          "base_uri": "https://localhost:8080/"
        },
        "id": "3P21_eDruiM1",
        "outputId": "176039a7-8f14-438c-e62a-cf363220e661"
      },
      "source": [
        "#frequency table on the type of jobs\n",
        "fdata.type_of_job.value_counts()"
      ],
      "execution_count": 97,
      "outputs": [
        {
          "output_type": "execute_result",
          "data": {
            "text/plain": [
              "Self employed                   6375\n",
              "Informally employed             5562\n",
              "Farming and Fishing             5428\n",
              "Remittance Dependent            2511\n",
              "Other Income                    1079\n",
              "Formally employed Private       1049\n",
              "No Income                        621\n",
              "Formally employed Government     386\n",
              "Government Dependent             247\n",
              "Dont Know/Refuse to answer       125\n",
              "Name: type_of_job, dtype: int64"
            ]
          },
          "metadata": {
            "tags": []
          },
          "execution_count": 97
        }
      ]
    },
    {
      "cell_type": "code",
      "metadata": {
        "colab": {
          "base_uri": "https://localhost:8080/"
        },
        "id": "lfyLMG3bxgi1",
        "outputId": "dded9710-41a9-4012-9474-f406edd94c45"
      },
      "source": [
        "#frequency table on the level of education attained\n",
        "fdata.level_of_education.value_counts()"
      ],
      "execution_count": 98,
      "outputs": [
        {
          "output_type": "execute_result",
          "data": {
            "text/plain": [
              "Primary education                  12711\n",
              "No formal education                 4476\n",
              "Secondary education                 4211\n",
              "Tertiary education                  1149\n",
              "Vocational/Specialised training      801\n",
              "6                                     27\n",
              "Other/Dont know/RTA                    8\n",
              "Name: level_of_education, dtype: int64"
            ]
          },
          "metadata": {
            "tags": []
          },
          "execution_count": 98
        }
      ]
    },
    {
      "cell_type": "markdown",
      "metadata": {
        "id": "tXMxpsfEBM52"
      },
      "source": [
        "### Histograms\n"
      ]
    },
    {
      "cell_type": "code",
      "metadata": {
        "colab": {
          "base_uri": "https://localhost:8080/",
          "height": 300
        },
        "id": "u1tYQ107Nt8q",
        "outputId": "21e8f525-d46f-49fe-fca9-6f5883ab86e0"
      },
      "source": [
        "# Plotting a histogram for the responders age\n",
        "plt.hist(fdata.responders_age,bins=30,color='teal')\n",
        "plt.xlabel(\"responders' ages\", fontsize=13)\n",
        "plt.ylabel('Frequency',fontsize=13)\n",
        "plt.title(\"A Histogram for Distribution of Responder's Ages\",fontsize=15,color='brown')\n",
        "plt.show()"
      ],
      "execution_count": 99,
      "outputs": [
        {
          "output_type": "display_data",
          "data": {
            "image/png": "[encoded data removed]",
            "text/plain": [
              "<Figure size 432x288 with 1 Axes>"
            ]
          },
          "metadata": {
            "tags": [],
            "needs_background": "light"
          }
        }
      ]
    },
    {
      "cell_type": "code",
      "metadata": {
        "colab": {
          "base_uri": "https://localhost:8080/",
          "height": 300
        },
        "id": "VOQlhZWnojK0",
        "outputId": "fc0c425e-1b0d-4abe-fcd7-520374f85881"
      },
      "source": [
        "# a histogram for the house hold sizes\n",
        "plt.hist(fdata.household_size,bins=20,color='teal')\n",
        "plt.xlabel(\"household size\", fontsize=13)\n",
        "plt.ylabel('Frequency',fontsize=13)\n",
        "plt.title('A Histogram for Distribution of household sizes',fontsize=15,color='brown')\n",
        "plt.show()"
      ],
      "execution_count": 100,
      "outputs": [
        {
          "output_type": "display_data",
          "data": {
            "image/png": "[encoded data removed]",
            "text/plain": [
              "<Figure size 432x288 with 1 Axes>"
            ]
          },
          "metadata": {
            "tags": [],
            "needs_background": "light"
          }
        }
      ]
    },
    {
      "cell_type": "markdown",
      "metadata": {
        "id": "QUpnaZqJBqYR"
      },
      "source": [
        "### Pie Chart"
      ]
    },
    {
      "cell_type": "code",
      "metadata": {
        "colab": {
          "base_uri": "https://localhost:8080/",
          "height": 266
        },
        "id": "Cu7b0uPO4OM_",
        "outputId": "e14d1c8c-3627-4de4-cb7a-8eb6aaa3a491"
      },
      "source": [
        "# computing for a pie chart\n",
        "housesize=fdata.groupby(fdata.country,as_index=False)['household_size'].mean()\n",
        "plt.pie(housesize.household_size, labels=housesize.country,autopct='%1.1f%%', shadow=True, startangle=90)\n",
        "plt.title('The % of average household size by the countries',fontsize=15,color='brown')\n",
        "plt.axis('equal',)\n",
        "plt.show()"
      ],
      "execution_count": 101,
      "outputs": [
        {
          "output_type": "display_data",
          "data": {
            "image/png": "[encoded data removed]",
            "text/plain": [
              "<Figure size 432x288 with 1 Axes>"
            ]
          },
          "metadata": {
            "tags": []
          }
        }
      ]
    },
    {
      "cell_type": "code",
      "metadata": {
        "colab": {
          "base_uri": "https://localhost:8080/",
          "height": 288
        },
        "id": "WvN7cQ3ZAzgk",
        "outputId": "e9469280-6420-4e6a-f142-4c40810c30a3"
      },
      "source": [
        "#getting the summary statistics for the dataset.(numerical columns)\n",
        "fdata[['household_size','responders_age']].describe()\n",
        "\n",
        "# Note on average a household had an average of 4 members(rounded up) and the average age of  the responders was 39 years"
      ],
      "execution_count": 102,
      "outputs": [
        {
          "output_type": "execute_result",
          "data": {
            "text/html": [
              "<div>\n",
              "<style scoped>\n",
              "    .dataframe tbody tr th:only-of-type {\n",
              "        vertical-align: middle;\n",
              "    }\n",
              "\n",
              "    .dataframe tbody tr th {\n",
              "        vertical-align: top;\n",
              "    }\n",
              "\n",
              "    .dataframe thead th {\n",
              "        text-align: right;\n",
              "    }\n",
              "</style>\n",
              "<table border=\"1\" class=\"dataframe\">\n",
              "  <thead>\n",
              "    <tr style=\"text-align: right;\">\n",
              "      <th></th>\n",
              "      <th>household_size</th>\n",
              "      <th>responders_age</th>\n",
              "    </tr>\n",
              "  </thead>\n",
              "  <tbody>\n",
              "    <tr>\n",
              "      <th>count</th>\n",
              "      <td>23383.000000</td>\n",
              "      <td>23383.000000</td>\n",
              "    </tr>\n",
              "    <tr>\n",
              "      <th>mean</th>\n",
              "      <td>3.688478</td>\n",
              "      <td>38.803202</td>\n",
              "    </tr>\n",
              "    <tr>\n",
              "      <th>std</th>\n",
              "      <td>2.280123</td>\n",
              "      <td>16.515560</td>\n",
              "    </tr>\n",
              "    <tr>\n",
              "      <th>min</th>\n",
              "      <td>0.000000</td>\n",
              "      <td>16.000000</td>\n",
              "    </tr>\n",
              "    <tr>\n",
              "      <th>25%</th>\n",
              "      <td>2.000000</td>\n",
              "      <td>26.000000</td>\n",
              "    </tr>\n",
              "    <tr>\n",
              "      <th>50%</th>\n",
              "      <td>3.000000</td>\n",
              "      <td>35.000000</td>\n",
              "    </tr>\n",
              "    <tr>\n",
              "      <th>75%</th>\n",
              "      <td>5.000000</td>\n",
              "      <td>49.000000</td>\n",
              "    </tr>\n",
              "    <tr>\n",
              "      <th>max</th>\n",
              "      <td>21.000000</td>\n",
              "      <td>100.000000</td>\n",
              "    </tr>\n",
              "  </tbody>\n",
              "</table>\n",
              "</div>"
            ],
            "text/plain": [
              "       household_size  responders_age\n",
              "count    23383.000000    23383.000000\n",
              "mean         3.688478       38.803202\n",
              "std          2.280123       16.515560\n",
              "min          0.000000       16.000000\n",
              "25%          2.000000       26.000000\n",
              "50%          3.000000       35.000000\n",
              "75%          5.000000       49.000000\n",
              "max         21.000000      100.000000"
            ]
          },
          "metadata": {
            "tags": []
          },
          "execution_count": 102
        }
      ]
    },
    {
      "cell_type": "markdown",
      "metadata": {
        "id": "PhWd9-qBQ5Vm"
      },
      "source": [
        "To verify\n",
        "\n",
        "as of 2014 the average persons per household in Kenya(as an East African Country) was 4 persons per household"
      ]
    },
    {
      "cell_type": "code",
      "metadata": {
        "colab": {
          "base_uri": "https://localhost:8080/"
        },
        "id": "CHgFRJj1xy_C",
        "outputId": "446d68c8-95b0-461c-c0ad-b26b128d000b"
      },
      "source": [
        "#checking on the skew\n",
        "print(fdata['household_size'].skew())\n",
        "print(fdata['responders_age'].skew())\n",
        "\n",
        "# both columns are positively skewed since the values are positive\n",
        "# therefore they are skewed to the right and if the distributions are\n",
        "# plotted, the tail on the right-hand side are longer than on the left "
      ],
      "execution_count": 103,
      "outputs": [
        {
          "output_type": "stream",
          "text": [
            "0.9747219970454781\n",
            "0.8421293556879087\n"
          ],
          "name": "stdout"
        }
      ]
    },
    {
      "cell_type": "code",
      "metadata": {
        "colab": {
          "base_uri": "https://localhost:8080/"
        },
        "id": "VBPIDPUW0RfZ",
        "outputId": "1cce0657-2644-4544-f388-f885dbde6d1f"
      },
      "source": [
        "#checking on kurtosis\n",
        "print(fdata['household_size'].kurt())\n",
        "print(fdata['responders_age'].kurt())\n",
        "\n",
        "# both the kurtosis for both variables are greater than 0. \n",
        "# the distributions have heavier tails and are thus leptokurtic distributions"
      ],
      "execution_count": 104,
      "outputs": [
        {
          "output_type": "stream",
          "text": [
            "1.157022364387096\n",
            "0.104461837582694\n"
          ],
          "name": "stdout"
        }
      ]
    },
    {
      "cell_type": "markdown",
      "metadata": {
        "id": "DoIEOOMpJYs2"
      },
      "source": [
        "### Boxplots\n"
      ]
    },
    {
      "cell_type": "code",
      "metadata": {
        "colab": {
          "base_uri": "https://localhost:8080/",
          "height": 373
        },
        "id": "qoo4VGSg5_Jr",
        "outputId": "c2bcae8b-640d-4cd6-e2f3-a3307e7a95ed"
      },
      "source": [
        "# plotting a boxplot on the household size \n",
        "sns.boxplot(fdata['household_size'],color='teal',showmeans=True)\n",
        "plt.title('boxplot of average household size ',fontsize=15,color='brown')"
      ],
      "execution_count": 105,
      "outputs": [
        {
          "output_type": "stream",
          "text": [
            "/usr/local/lib/python3.7/dist-packages/seaborn/_decorators.py:43: FutureWarning: Pass the following variable as a keyword arg: x. From version 0.12, the only valid positional argument will be `data`, and passing other arguments without an explicit keyword will result in an error or misinterpretation.\n",
            "  FutureWarning\n"
          ],
          "name": "stderr"
        },
        {
          "output_type": "execute_result",
          "data": {
            "text/plain": [
              "Text(0.5, 1.0, 'boxplot of average household size ')"
            ]
          },
          "metadata": {
            "tags": []
          },
          "execution_count": 105
        },
        {
          "output_type": "display_data",
          "data": {
            "image/png": "[encoded data removed]",
            "text/plain": [
              "<Figure size 432x288 with 1 Axes>"
            ]
          },
          "metadata": {
            "tags": [],
            "needs_background": "light"
          }
        }
      ]
    },
    {
      "cell_type": "code",
      "metadata": {
        "colab": {
          "base_uri": "https://localhost:8080/",
          "height": 372
        },
        "id": "sOYo635d8aHg",
        "outputId": "6e4501a7-b008-42d5-ed6d-207510593055"
      },
      "source": [
        "# plotting a boxplot for distribution of year\n",
        "sns.boxplot(fdata['year'],color='brown',showmeans=True)\n",
        "plt.title('boxplot of years',fontsize=15,color='brown')"
      ],
      "execution_count": 106,
      "outputs": [
        {
          "output_type": "stream",
          "text": [
            "/usr/local/lib/python3.7/dist-packages/seaborn/_decorators.py:43: FutureWarning: Pass the following variable as a keyword arg: x. From version 0.12, the only valid positional argument will be `data`, and passing other arguments without an explicit keyword will result in an error or misinterpretation.\n",
            "  FutureWarning\n"
          ],
          "name": "stderr"
        },
        {
          "output_type": "execute_result",
          "data": {
            "text/plain": [
              "Text(0.5, 1.0, 'boxplot of years')"
            ]
          },
          "metadata": {
            "tags": []
          },
          "execution_count": 106
        },
        {
          "output_type": "display_data",
          "data": {
            "image/png": "[encoded data removed]",
            "text/plain": [
              "<Figure size 432x288 with 1 Axes>"
            ]
          },
          "metadata": {
            "tags": [],
            "needs_background": "light"
          }
        }
      ]
    },
    {
      "cell_type": "markdown",
      "metadata": {
        "id": "QgBAfCYNxUqW"
      },
      "source": [
        "### dealing with some of the anomalies"
      ]
    },
    {
      "cell_type": "code",
      "metadata": {
        "id": "EoFfm2iMwUOW"
      },
      "source": [
        "#removing rows whose year is greater than 2018\n",
        "fdata=fdata[fdata['year']<=2018]"
      ],
      "execution_count": 107,
      "outputs": []
    },
    {
      "cell_type": "code",
      "metadata": {
        "id": "sCIChtiFxa9z"
      },
      "source": [
        "#change the category for '6' to 'Other/Dont know/RTA'\n",
        "education={'level_of_education':{6:'Other/Dont know/RTA'}}\n",
        "fdata.replace(education,inplace=True)"
      ],
      "execution_count": 108,
      "outputs": []
    },
    {
      "cell_type": "code",
      "metadata": {
        "id": "rUfzajRty4O3"
      },
      "source": [
        "#removing extreme outliers for household size such that a house hold does not exceed 20 members\n",
        "fdata=fdata[fdata['household_size']<=20]"
      ],
      "execution_count": 109,
      "outputs": []
    },
    {
      "cell_type": "markdown",
      "metadata": {
        "id": "9E6OZJSK8pqh"
      },
      "source": [
        "# Bivariate analysis"
      ]
    },
    {
      "cell_type": "code",
      "metadata": {
        "colab": {
          "base_uri": "https://localhost:8080/"
        },
        "id": "Ouzl1IKqAFzL",
        "outputId": "9eae23ce-9b41-4fde-e1a3-d7f990fd2883"
      },
      "source": [
        "fdata.columns"
      ],
      "execution_count": 110,
      "outputs": [
        {
          "output_type": "execute_result",
          "data": {
            "text/plain": [
              "Index(['country', 'year', 'uniqueid', 'has_bank_account', 'location_type',\n",
              "       'cell_phone_access', 'household_size', 'responders_age',\n",
              "       'gender_of_respondent', 'relationship_with_head', 'marital_status',\n",
              "       'level_of_education', 'type_of_job'],\n",
              "      dtype='object')"
            ]
          },
          "metadata": {
            "tags": []
          },
          "execution_count": 110
        }
      ]
    },
    {
      "cell_type": "markdown",
      "metadata": {
        "id": "88TrwcMvK17I"
      },
      "source": [
        "### scatter plot"
      ]
    },
    {
      "cell_type": "code",
      "metadata": {
        "colab": {
          "base_uri": "https://localhost:8080/",
          "height": 300
        },
        "id": "EHKUryYN9OR6",
        "outputId": "235ed1b4-9fd5-4f88-c715-8839b01c0c0e"
      },
      "source": [
        "#scatter plot\n",
        "age=fdata.groupby(fdata.responders_age,as_index=False)['household_size'].sum()\n",
        "plt.scatter(age.responders_age,age.household_size)\n",
        "plt.title('scatterplot of responders age to household size',fontsize=15,color='brown')\n",
        "plt.xlabel(\"responders' ages\", fontsize=13)\n",
        "plt.ylabel('sum of household sizes',fontsize=13)\n",
        "plt.show()"
      ],
      "execution_count": 111,
      "outputs": [
        {
          "output_type": "display_data",
          "data": {
            "image/png": "[encoded data removed]",
            "text/plain": [
              "<Figure size 432x288 with 1 Axes>"
            ]
          },
          "metadata": {
            "tags": [],
            "needs_background": "light"
          }
        }
      ]
    },
    {
      "cell_type": "markdown",
      "metadata": {
        "id": "ZtIUEibWLXfD"
      },
      "source": [
        "### checking correlation"
      ]
    },
    {
      "cell_type": "code",
      "metadata": {
        "colab": {
          "base_uri": "https://localhost:8080/",
          "height": 108
        },
        "id": "kTFCR0JTBJqp",
        "outputId": "ed2da987-945c-4f14-a9f7-8baf8d52030e"
      },
      "source": [
        "#correlation\n",
        "fdata[['household_size','responders_age']].corr()"
      ],
      "execution_count": 112,
      "outputs": [
        {
          "output_type": "execute_result",
          "data": {
            "text/html": [
              "<div>\n",
              "<style scoped>\n",
              "    .dataframe tbody tr th:only-of-type {\n",
              "        vertical-align: middle;\n",
              "    }\n",
              "\n",
              "    .dataframe tbody tr th {\n",
              "        vertical-align: top;\n",
              "    }\n",
              "\n",
              "    .dataframe thead th {\n",
              "        text-align: right;\n",
              "    }\n",
              "</style>\n",
              "<table border=\"1\" class=\"dataframe\">\n",
              "  <thead>\n",
              "    <tr style=\"text-align: right;\">\n",
              "      <th></th>\n",
              "      <th>household_size</th>\n",
              "      <th>responders_age</th>\n",
              "    </tr>\n",
              "  </thead>\n",
              "  <tbody>\n",
              "    <tr>\n",
              "      <th>household_size</th>\n",
              "      <td>1.000000</td>\n",
              "      <td>-0.120101</td>\n",
              "    </tr>\n",
              "    <tr>\n",
              "      <th>responders_age</th>\n",
              "      <td>-0.120101</td>\n",
              "      <td>1.000000</td>\n",
              "    </tr>\n",
              "  </tbody>\n",
              "</table>\n",
              "</div>"
            ],
            "text/plain": [
              "                household_size  responders_age\n",
              "household_size        1.000000       -0.120101\n",
              "responders_age       -0.120101        1.000000"
            ]
          },
          "metadata": {
            "tags": []
          },
          "execution_count": 112
        }
      ]
    },
    {
      "cell_type": "code",
      "metadata": {
        "id": "ZlqjOodKlPNy",
        "colab": {
          "base_uri": "https://localhost:8080/",
          "height": 273
        },
        "outputId": "2571d2b8-8264-4690-c329-d7b0d0d2f1d0"
      },
      "source": [
        "#visualising the correlations using a heat map\n",
        "sns.heatmap(fdata[['household_size','responders_age']].corr(),annot=True)\n",
        "plt.show()"
      ],
      "execution_count": 113,
      "outputs": [
        {
          "output_type": "display_data",
          "data": {
            "image/png": "[encoded data removed]",
            "text/plain": [
              "<Figure size 432x288 with 2 Axes>"
            ]
          },
          "metadata": {
            "tags": [],
            "needs_background": "light"
          }
        }
      ]
    },
    {
      "cell_type": "markdown",
      "metadata": {
        "id": "DIbe3nAaLpBZ"
      },
      "source": [
        "stacked bar graph"
      ]
    },
    {
      "cell_type": "code",
      "metadata": {
        "colab": {
          "base_uri": "https://localhost:8080/",
          "height": 434
        },
        "id": "iLYWsYfHPhcZ",
        "outputId": "97909b69-94b8-4c5d-eda4-3baefe59b097"
      },
      "source": [
        "# plotting a stacked bar graph household size and responders age based on types of jobs\n",
        "job_size=fdata.groupby(fdata.type_of_job,as_index=False)['household_size'].mean()\n",
        "job_age=fdata.groupby(fdata.type_of_job,as_index=False)['responders_age'].mean()\n",
        "\n",
        "plt.bar(job_size.type_of_job,job_size.household_size,label='household size',color='teal',bottom=job_age.responders_age)\n",
        "plt.bar(job_age.type_of_job,job_age.responders_age,label='responders age',color='brown')\n",
        "plt.title('A stacked bar graph household size and responders age by the types of jobs',fontsize=15,color='brown')\n",
        "plt.xlabel(\"type of job\", fontsize=13)\n",
        "plt.ylabel('means',fontsize=13)\n",
        "plt.xticks(rotation=60)\n",
        "plt.legend()\n",
        "plt.show()"
      ],
      "execution_count": 114,
      "outputs": [
        {
          "output_type": "display_data",
          "data": {
            "image/png": "[encoded data removed]",
            "text/plain": [
              "<Figure size 432x288 with 1 Axes>"
            ]
          },
          "metadata": {
            "tags": [],
            "needs_background": "light"
          }
        }
      ]
    },
    {
      "cell_type": "markdown",
      "metadata": {
        "id": "9d92-vcIL2I3"
      },
      "source": [
        "### line graph"
      ]
    },
    {
      "cell_type": "code",
      "metadata": {
        "colab": {
          "base_uri": "https://localhost:8080/",
          "height": 331
        },
        "id": "zgEdef2vXChH",
        "outputId": "566f4a2a-7910-4c9e-ee68-82d74f9c6f78"
      },
      "source": [
        "#plotting a line graph for responders age and house hold sizes over the years\n",
        "year_size=fdata.groupby(fdata.year,as_index=False)['household_size'].mean()\n",
        "year_age=fdata.groupby(fdata.year,as_index=False)['responders_age'].mean()\n",
        "plt.plot(year_age.year,year_size.household_size,color='teal')\n",
        "plt.plot(year_age.year,year_age.responders_age,color='brown')\n",
        "plt.title('A line graph household size and responders age over the years',fontsize=15,color='brown')\n",
        "plt.xlabel(\"years\", fontsize=13)\n",
        "plt.ylabel('values',fontsize=13)\n",
        "plt.xticks(rotation=60)\n",
        "plt.show()"
      ],
      "execution_count": 115,
      "outputs": [
        {
          "output_type": "display_data",
          "data": {
            "image/png": "[encoded data removed]",
            "text/plain": [
              "<Figure size 432x288 with 1 Axes>"
            ]
          },
          "metadata": {
            "tags": [],
            "needs_background": "light"
          }
        }
      ]
    },
    {
      "cell_type": "markdown",
      "metadata": {
        "id": "buXANP1lluE0"
      },
      "source": [
        "# multivariate analysis"
      ]
    },
    {
      "cell_type": "code",
      "metadata": {
        "colab": {
          "base_uri": "https://localhost:8080/"
        },
        "id": "BnB1w4fvJIc4",
        "outputId": "9e427559-94d7-42f7-c446-ca2580430461"
      },
      "source": [
        "fdata.columns"
      ],
      "execution_count": 116,
      "outputs": [
        {
          "output_type": "execute_result",
          "data": {
            "text/plain": [
              "Index(['country', 'year', 'uniqueid', 'has_bank_account', 'location_type',\n",
              "       'cell_phone_access', 'household_size', 'responders_age',\n",
              "       'gender_of_respondent', 'relationship_with_head', 'marital_status',\n",
              "       'level_of_education', 'type_of_job'],\n",
              "      dtype='object')"
            ]
          },
          "metadata": {
            "tags": []
          },
          "execution_count": 116
        }
      ]
    },
    {
      "cell_type": "code",
      "metadata": {
        "id": "-0Oi8qKfHwzs"
      },
      "source": [
        "#in order for the multivariate analysis to work,the caategoriacal variables had to be encoded to numeric\n",
        "#Therefore for ordinal data, a range of 1-10 was used. while for nominal data binary (0, 1) was used. Then converted to integers\n",
        "country = {'country':{'Kenya': 1, 'Rwanda':2,'Tanzania':3,'Uganda':4}}\n",
        "fdata.replace(country, inplace=True)\n",
        "\n",
        "location={'location_type':{'Urban': 0, 'Rural':1}}\n",
        "fdata.replace(location, inplace=True)\n",
        "\n",
        "cellphone={'cell_phone_access':{'No': 0, 'Yes':1}}\n",
        "fdata.replace(cellphone,inplace=True)\n",
        "\n",
        "gender={'gender_of_respondent':{'Female': 0, 'Male':1}}\n",
        "fdata.replace(gender,inplace=True)\n",
        "\n",
        "relationship={'relationship_with_head':{'Spouse': 1, 'Head of Household':2, 'Other relative':3, 'Child':4, 'Parent':5, 'Other non-relatives':6}}\n",
        "fdata.replace(relationship,inplace=True)\n",
        "\n",
        "marital={'marital_status':{'Married/Living together': 1, 'Widowed':2,'Single/Never Married':3,'Divorced/Seperated':4,'Dont know':5}}\n",
        "fdata.replace(marital,inplace=True)\n",
        "\n",
        "education={'level_of_education':{'Secondary education':3, 'No formal education':1,'Vocational/Specialised training':5, 'Primary education':2,'Tertiary education':4, 'Other/Dont know/RTA':6,}}\n",
        "fdata.replace(education,inplace=True)\n",
        "\n",
        "jobtype={'type_of_job':{'Self employed':1, 'Government Dependent':2,'Formally employed Private':3, 'Informally employed':4,'Formally employed Government':5, 'Farming and Fishing':6,'Remittance Dependent':7, 'Other Income':8,'Dont Know/Refuse to answer':9, 'No Income':10}}\n",
        "fdata.replace(jobtype,inplace=True)\n",
        "\n",
        "fdata[['country', 'year', 'location_type','cell_phone_access','gender_of_respondent', 'relationship_with_head', 'marital_status','level_of_education', 'type_of_job']]=fdata[['country', 'year', 'location_type','cell_phone_access','gender_of_respondent', 'relationship_with_head', 'marital_status','level_of_education', 'type_of_job']].astype('int')"
      ],
      "execution_count": 117,
      "outputs": []
    },
    {
      "cell_type": "code",
      "metadata": {
        "colab": {
          "base_uri": "https://localhost:8080/",
          "height": 368
        },
        "id": "vSeadSd1Zbzl",
        "outputId": "0fab4593-1e59-49ea-f1cf-4d7e4d3c2a65"
      },
      "source": [
        "fdata.head(10)"
      ],
      "execution_count": 118,
      "outputs": [
        {
          "output_type": "execute_result",
          "data": {
            "text/html": [
              "<div>\n",
              "<style scoped>\n",
              "    .dataframe tbody tr th:only-of-type {\n",
              "        vertical-align: middle;\n",
              "    }\n",
              "\n",
              "    .dataframe tbody tr th {\n",
              "        vertical-align: top;\n",
              "    }\n",
              "\n",
              "    .dataframe thead th {\n",
              "        text-align: right;\n",
              "    }\n",
              "</style>\n",
              "<table border=\"1\" class=\"dataframe\">\n",
              "  <thead>\n",
              "    <tr style=\"text-align: right;\">\n",
              "      <th></th>\n",
              "      <th>country</th>\n",
              "      <th>year</th>\n",
              "      <th>uniqueid</th>\n",
              "      <th>has_bank_account</th>\n",
              "      <th>location_type</th>\n",
              "      <th>cell_phone_access</th>\n",
              "      <th>household_size</th>\n",
              "      <th>responders_age</th>\n",
              "      <th>gender_of_respondent</th>\n",
              "      <th>relationship_with_head</th>\n",
              "      <th>marital_status</th>\n",
              "      <th>level_of_education</th>\n",
              "      <th>type_of_job</th>\n",
              "    </tr>\n",
              "  </thead>\n",
              "  <tbody>\n",
              "    <tr>\n",
              "      <th>0</th>\n",
              "      <td>1</td>\n",
              "      <td>2018</td>\n",
              "      <td>uniqueid_1</td>\n",
              "      <td>Yes</td>\n",
              "      <td>1</td>\n",
              "      <td>1</td>\n",
              "      <td>3.0</td>\n",
              "      <td>24.0</td>\n",
              "      <td>0</td>\n",
              "      <td>1</td>\n",
              "      <td>1</td>\n",
              "      <td>3</td>\n",
              "      <td>1</td>\n",
              "    </tr>\n",
              "    <tr>\n",
              "      <th>1</th>\n",
              "      <td>1</td>\n",
              "      <td>2018</td>\n",
              "      <td>uniqueid_2</td>\n",
              "      <td>No</td>\n",
              "      <td>1</td>\n",
              "      <td>0</td>\n",
              "      <td>5.0</td>\n",
              "      <td>70.0</td>\n",
              "      <td>0</td>\n",
              "      <td>2</td>\n",
              "      <td>2</td>\n",
              "      <td>1</td>\n",
              "      <td>2</td>\n",
              "    </tr>\n",
              "    <tr>\n",
              "      <th>2</th>\n",
              "      <td>1</td>\n",
              "      <td>2018</td>\n",
              "      <td>uniqueid_3</td>\n",
              "      <td>Yes</td>\n",
              "      <td>0</td>\n",
              "      <td>1</td>\n",
              "      <td>5.0</td>\n",
              "      <td>26.0</td>\n",
              "      <td>1</td>\n",
              "      <td>3</td>\n",
              "      <td>3</td>\n",
              "      <td>5</td>\n",
              "      <td>1</td>\n",
              "    </tr>\n",
              "    <tr>\n",
              "      <th>3</th>\n",
              "      <td>1</td>\n",
              "      <td>2018</td>\n",
              "      <td>uniqueid_4</td>\n",
              "      <td>No</td>\n",
              "      <td>1</td>\n",
              "      <td>1</td>\n",
              "      <td>5.0</td>\n",
              "      <td>34.0</td>\n",
              "      <td>0</td>\n",
              "      <td>2</td>\n",
              "      <td>1</td>\n",
              "      <td>2</td>\n",
              "      <td>3</td>\n",
              "    </tr>\n",
              "    <tr>\n",
              "      <th>4</th>\n",
              "      <td>1</td>\n",
              "      <td>2018</td>\n",
              "      <td>uniqueid_5</td>\n",
              "      <td>No</td>\n",
              "      <td>0</td>\n",
              "      <td>0</td>\n",
              "      <td>8.0</td>\n",
              "      <td>26.0</td>\n",
              "      <td>1</td>\n",
              "      <td>4</td>\n",
              "      <td>3</td>\n",
              "      <td>2</td>\n",
              "      <td>4</td>\n",
              "    </tr>\n",
              "    <tr>\n",
              "      <th>5</th>\n",
              "      <td>1</td>\n",
              "      <td>2018</td>\n",
              "      <td>uniqueid_6</td>\n",
              "      <td>No</td>\n",
              "      <td>1</td>\n",
              "      <td>0</td>\n",
              "      <td>7.0</td>\n",
              "      <td>26.0</td>\n",
              "      <td>0</td>\n",
              "      <td>1</td>\n",
              "      <td>1</td>\n",
              "      <td>2</td>\n",
              "      <td>4</td>\n",
              "    </tr>\n",
              "    <tr>\n",
              "      <th>6</th>\n",
              "      <td>1</td>\n",
              "      <td>2018</td>\n",
              "      <td>uniqueid_7</td>\n",
              "      <td>No</td>\n",
              "      <td>1</td>\n",
              "      <td>1</td>\n",
              "      <td>7.0</td>\n",
              "      <td>32.0</td>\n",
              "      <td>0</td>\n",
              "      <td>1</td>\n",
              "      <td>1</td>\n",
              "      <td>2</td>\n",
              "      <td>1</td>\n",
              "    </tr>\n",
              "    <tr>\n",
              "      <th>7</th>\n",
              "      <td>1</td>\n",
              "      <td>2018</td>\n",
              "      <td>uniqueid_8</td>\n",
              "      <td>No</td>\n",
              "      <td>1</td>\n",
              "      <td>1</td>\n",
              "      <td>1.0</td>\n",
              "      <td>42.0</td>\n",
              "      <td>0</td>\n",
              "      <td>2</td>\n",
              "      <td>1</td>\n",
              "      <td>4</td>\n",
              "      <td>5</td>\n",
              "    </tr>\n",
              "    <tr>\n",
              "      <th>8</th>\n",
              "      <td>1</td>\n",
              "      <td>2018</td>\n",
              "      <td>uniqueid_9</td>\n",
              "      <td>Yes</td>\n",
              "      <td>1</td>\n",
              "      <td>1</td>\n",
              "      <td>3.0</td>\n",
              "      <td>54.0</td>\n",
              "      <td>1</td>\n",
              "      <td>2</td>\n",
              "      <td>1</td>\n",
              "      <td>3</td>\n",
              "      <td>6</td>\n",
              "    </tr>\n",
              "    <tr>\n",
              "      <th>9</th>\n",
              "      <td>1</td>\n",
              "      <td>2018</td>\n",
              "      <td>uniqueid_10</td>\n",
              "      <td>No</td>\n",
              "      <td>0</td>\n",
              "      <td>1</td>\n",
              "      <td>3.0</td>\n",
              "      <td>76.0</td>\n",
              "      <td>0</td>\n",
              "      <td>2</td>\n",
              "      <td>4</td>\n",
              "      <td>1</td>\n",
              "      <td>7</td>\n",
              "    </tr>\n",
              "  </tbody>\n",
              "</table>\n",
              "</div>"
            ],
            "text/plain": [
              "   country  year     uniqueid  ... marital_status  level_of_education  type_of_job\n",
              "0        1  2018   uniqueid_1  ...              1                   3            1\n",
              "1        1  2018   uniqueid_2  ...              2                   1            2\n",
              "2        1  2018   uniqueid_3  ...              3                   5            1\n",
              "3        1  2018   uniqueid_4  ...              1                   2            3\n",
              "4        1  2018   uniqueid_5  ...              3                   2            4\n",
              "5        1  2018   uniqueid_6  ...              1                   2            4\n",
              "6        1  2018   uniqueid_7  ...              1                   2            1\n",
              "7        1  2018   uniqueid_8  ...              1                   4            5\n",
              "8        1  2018   uniqueid_9  ...              1                   3            6\n",
              "9        1  2018  uniqueid_10  ...              4                   1            7\n",
              "\n",
              "[10 rows x 13 columns]"
            ]
          },
          "metadata": {
            "tags": []
          },
          "execution_count": 118
        }
      ]
    },
    {
      "cell_type": "markdown",
      "metadata": {
        "id": "qgAdDOQJ4K6G"
      },
      "source": [
        "### Applying Linear Discriminant Analysis"
      ]
    },
    {
      "cell_type": "code",
      "metadata": {
        "id": "3dWFT4qZnvaS"
      },
      "source": [
        "# dividing data into labels and feature set\n",
        "x = fdata.drop(columns=['uniqueid','has_bank_account'],axis=1)\n",
        "y = fdata.iloc[:, 3].values"
      ],
      "execution_count": 119,
      "outputs": []
    },
    {
      "cell_type": "code",
      "metadata": {
        "id": "uuj4m4Hto-Wh"
      },
      "source": [
        "# The following code divides data into training and test sets\n",
        "from sklearn.model_selection import train_test_split\n",
        "\n",
        "X_train, X_test, y_train, y_test = train_test_split(x, y, test_size=0.2, random_state=0)"
      ],
      "execution_count": 120,
      "outputs": []
    },
    {
      "cell_type": "code",
      "metadata": {
        "id": "rRF80wKhwJs4"
      },
      "source": [
        "#We then perform feature scaling.\n",
        "from sklearn.preprocessing import StandardScaler\n",
        "sc = StandardScaler()\n",
        "X_train = sc.fit_transform(X_train)\n",
        "X_test = sc.transform(X_test)"
      ],
      "execution_count": 121,
      "outputs": []
    },
    {
      "cell_type": "code",
      "metadata": {
        "id": "CpeZOGGCwX-R"
      },
      "source": [
        "# Peforming LDA\n",
        "# we then execute the fit and transform methods to actually retrieve the linear discriminants.\n",
        "from sklearn.discriminant_analysis import LinearDiscriminantAnalysis as LDA\n",
        "lda = LDA(n_components=1)\n",
        "X_train = lda.fit_transform(X_train, y_train)\n",
        "X_test = lda.transform(X_test)"
      ],
      "execution_count": 122,
      "outputs": []
    },
    {
      "cell_type": "code",
      "metadata": {
        "id": "ONfAGtJDwduH"
      },
      "source": [
        "#Training and Making Predictions\n",
        "# We use the random forest classifier to evaluate the performance of a PCA-reduced algorithm\n",
        "from sklearn.ensemble import RandomForestClassifier\n",
        "\n",
        "classifier = RandomForestClassifier(max_depth=2, random_state=0)\n",
        "classifier.fit(X_train, y_train)\n",
        "y_pred = classifier.predict(X_test)"
      ],
      "execution_count": 123,
      "outputs": []
    },
    {
      "cell_type": "code",
      "metadata": {
        "colab": {
          "base_uri": "https://localhost:8080/"
        },
        "id": "8Q7CvbkCwmLL",
        "outputId": "7232dd59-8e74-4b6a-b1cb-08247e627790"
      },
      "source": [
        "# we then evaluate performance of the algorithm \n",
        "# with the help of a confusion matrix and find the accuracy of the prediction\n",
        "from sklearn.metrics import confusion_matrix\n",
        "from sklearn.metrics import accuracy_score\n",
        "\n",
        "cm = confusion_matrix(y_test, y_pred)\n",
        "print(cm)\n",
        "print('Accuracy' + str(accuracy_score(y_test, y_pred)))"
      ],
      "execution_count": 124,
      "outputs": [
        {
          "output_type": "stream",
          "text": [
            "[[3851  161]\n",
            " [ 446  218]]\n",
            "Accuracy0.8701881950384944\n"
          ],
          "name": "stdout"
        }
      ]
    },
    {
      "cell_type": "markdown",
      "metadata": {
        "id": "hmBt2t43Umvu"
      },
      "source": [
        "insights on making improvements\n",
        "\n",
        "\n",
        "* Inorder to revaluate the model, cheking using the Principle Component Analysis method for Multivariate Analysis is commendable\n",
        " "
      ]
    },
    {
      "cell_type": "code",
      "metadata": {
        "id": "6lAYNb4NVoWN"
      },
      "source": [
        ""
      ],
      "execution_count": 124,
      "outputs": []
    }
  ]
}